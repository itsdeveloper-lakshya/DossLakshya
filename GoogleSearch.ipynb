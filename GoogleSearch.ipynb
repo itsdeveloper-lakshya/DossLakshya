{
 "cells": [
  {
   "cell_type": "code",
   "execution_count": null,
   "id": "40ed5faa",
   "metadata": {},
   "outputs": [],
   "source": [
    "pip install google"
   ]
  },
  {
   "cell_type": "code",
   "execution_count": null,
   "id": "c9b1ce9e",
   "metadata": {},
   "outputs": [],
   "source": [
    "from googlesearch import search\n",
    "search_query=input(\"Enter name of website:\")\n",
    "for i in search(search_query,tld='co.in',lang='en',num=5,stop=5,pause=2.0):\n",
    "    print(i)"
   ]
  }
 ],
 "metadata": {
  "kernelspec": {
   "display_name": "Python 3 (ipykernel)",
   "language": "python",
   "name": "python3"
  },
  "language_info": {
   "codemirror_mode": {
    "name": "ipython",
    "version": 3
   },
   "file_extension": ".py",
   "mimetype": "text/x-python",
   "name": "python",
   "nbconvert_exporter": "python",
   "pygments_lexer": "ipython3",
   "version": "3.11.5"
  }
 },
 "nbformat": 4,
 "nbformat_minor": 5
}
