{
 "cells": [
  {
   "cell_type": "code",
   "execution_count": null,
   "id": "83739757",
   "metadata": {},
   "outputs": [],
   "source": [
    "pip install geopy"
   ]
  },
  {
   "cell_type": "code",
   "execution_count": null,
   "id": "7bab3478",
   "metadata": {},
   "outputs": [],
   "source": [
    "#for finding coordinates of any location\n",
    "from geopy.geocoders import ArcGIS\n",
    "nom=ArcGIS()\n",
    "location=input(\"Enter name of location : \")\n",
    "nom.geocode(location)\n"
   ]
  },
  {
   "cell_type": "code",
   "execution_count": null,
   "id": "b4774df4",
   "metadata": {},
   "outputs": [],
   "source": [
    "#for finding coordinates of live location\n",
    "import json\n",
    "from urllib.request import urlopen\n",
    "urlopen(\"http://ipinfo.io/json\")\n",
    "data = json.load(urlopen(\"http://ipinfo.io/json\"))\n",
    "\n",
    "# extract lattitude\n",
    "lat = data['loc'].split(',')[0]\n",
    "\n",
    "# extract longitude\n",
    "lon = data['loc'].split(',')[1]\n",
    "\n",
    "print(lat, lon)"
   ]
  },
  {
   "cell_type": "code",
   "execution_count": null,
   "id": "44727f82",
   "metadata": {},
   "outputs": [],
   "source": []
  }
 ],
 "metadata": {
  "kernelspec": {
   "display_name": "Python 3 (ipykernel)",
   "language": "python",
   "name": "python3"
  },
  "language_info": {
   "codemirror_mode": {
    "name": "ipython",
    "version": 3
   },
   "file_extension": ".py",
   "mimetype": "text/x-python",
   "name": "python",
   "nbconvert_exporter": "python",
   "pygments_lexer": "ipython3",
   "version": "3.11.5"
  }
 },
 "nbformat": 4,
 "nbformat_minor": 5
}
