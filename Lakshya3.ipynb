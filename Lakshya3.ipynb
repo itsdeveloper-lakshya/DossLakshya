{
 "cells": [
  {
   "cell_type": "code",
   "execution_count": null,
   "id": "70b9cba9",
   "metadata": {},
   "outputs": [],
   "source": [
    "import pywhatkit\n",
    "import datetime\n",
    "pywhatkit.sendwhatmsg(\"+917906043976\",\"hello dhruv\"10,37)"
   ]
  },
  {
   "cell_type": "code",
   "execution_count": null,
   "id": "31009083",
   "metadata": {},
   "outputs": [],
   "source": [
    "trainees=[['lakshya', 123, 'btech'], ['abhimann', 234, 'ba'], ['dhruv', 345, 'BCA'],\n",
    "          ['ashutosh', 456, 'BBA'], ['dev', 567, 'B.Ed']]\n",
    "print(trainees)"
   ]
  },
  {
   "cell_type": "code",
   "execution_count": null,
   "id": "ea3b09c6",
   "metadata": {},
   "outputs": [],
   "source": [
    "trainees[4][2]"
   ]
  },
  {
   "cell_type": "code",
   "execution_count": null,
   "id": "2989dcde",
   "metadata": {},
   "outputs": [],
   "source": [
    "trainees[0:100:2]"
   ]
  },
  {
   "cell_type": "code",
   "execution_count": null,
   "id": "a3e565d6",
   "metadata": {},
   "outputs": [],
   "source": [
    "for i in range(0,5):\n",
    "    print(trainees[i][1])"
   ]
  },
  {
   "cell_type": "code",
   "execution_count": null,
   "id": "e2105962",
   "metadata": {},
   "outputs": [],
   "source": [
    "pip install numpy"
   ]
  },
  {
   "cell_type": "code",
   "execution_count": null,
   "id": "cfa345f3",
   "metadata": {},
   "outputs": [],
   "source": [
    "import numpy as lak"
   ]
  }
 ],
 "metadata": {
  "kernelspec": {
   "display_name": "Python 3 (ipykernel)",
   "language": "python",
   "name": "python3"
  },
  "language_info": {
   "codemirror_mode": {
    "name": "ipython",
    "version": 3
   },
   "file_extension": ".py",
   "mimetype": "text/x-python",
   "name": "python",
   "nbconvert_exporter": "python",
   "pygments_lexer": "ipython3",
   "version": "3.11.5"
  }
 },
 "nbformat": 4,
 "nbformat_minor": 5
}
