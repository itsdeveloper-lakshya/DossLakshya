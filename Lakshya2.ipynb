{
 "cells": [
  {
   "cell_type": "code",
   "execution_count": 1,
   "id": "c2210069",
   "metadata": {},
   "outputs": [],
   "source": [
    "from operator import add\n",
    "import pywhatkit"
   ]
  },
  {
   "cell_type": "code",
   "execution_count": 2,
   "id": "63d83b79",
   "metadata": {},
   "outputs": [],
   "source": [
    "x = 6"
   ]
  },
  {
   "cell_type": "code",
   "execution_count": 3,
   "id": "ce12175a",
   "metadata": {},
   "outputs": [
    {
     "name": "stdout",
     "output_type": "stream",
     "text": [
      "I am trainee\n"
     ]
    }
   ],
   "source": [
    "print(\"I am trainee\")"
   ]
  },
  {
   "cell_type": "code",
   "execution_count": 4,
   "id": "820be89c",
   "metadata": {},
   "outputs": [
    {
     "name": "stdout",
     "output_type": "stream",
     "text": [
      "6\n"
     ]
    }
   ],
   "source": [
    "print(x)"
   ]
  },
  {
   "cell_type": "code",
   "execution_count": 5,
   "id": "b5e06402",
   "metadata": {},
   "outputs": [],
   "source": [
    "x='lakshya'"
   ]
  },
  {
   "cell_type": "code",
   "execution_count": 6,
   "id": "430d120b",
   "metadata": {},
   "outputs": [],
   "source": [
    "y='gupta242'"
   ]
  },
  {
   "cell_type": "code",
   "execution_count": 7,
   "id": "833e9da2",
   "metadata": {},
   "outputs": [
    {
     "data": {
      "text/plain": [
       "'lakshyagupta242'"
      ]
     },
     "execution_count": 7,
     "metadata": {},
     "output_type": "execute_result"
    }
   ],
   "source": [
    "x+y"
   ]
  },
  {
   "cell_type": "code",
   "execution_count": 8,
   "id": "5a47129a",
   "metadata": {},
   "outputs": [
    {
     "name": "stdout",
     "output_type": "stream",
     "text": [
      "<class 'str'>\n"
     ]
    }
   ],
   "source": [
    "print(type(x))"
   ]
  },
  {
   "cell_type": "code",
   "execution_count": null,
   "id": "fe51d3ea",
   "metadata": {},
   "outputs": [],
   "source": [
    "list=[1,2,3,5]"
   ]
  },
  {
   "cell_type": "code",
   "execution_count": null,
   "id": "c08d93ae",
   "metadata": {},
   "outputs": [],
   "source": [
    "len(list)"
   ]
  },
  {
   "cell_type": "code",
   "execution_count": null,
   "id": "5ed84843",
   "metadata": {},
   "outputs": [],
   "source": [
    "list[4-1]"
   ]
  },
  {
   "cell_type": "code",
   "execution_count": null,
   "id": "9605c310",
   "metadata": {},
   "outputs": [],
   "source": [
    "list.append(6)"
   ]
  },
  {
   "cell_type": "code",
   "execution_count": null,
   "id": "b0e0fa29",
   "metadata": {},
   "outputs": [],
   "source": [
    "list1=['lakshya','abhimann','ashutosh']\n",
    "list2=[' gupta',' pande',' singh']\n",
    "\n"
   ]
  },
  {
   "cell_type": "code",
   "execution_count": 1,
   "id": "f665f5eb",
   "metadata": {},
   "outputs": [
    {
     "name": "stdout",
     "output_type": "stream",
     "text": [
      "['lakshya', 123]\n",
      "['abhimann', 234]\n",
      "['dhruv', 345]\n",
      "['ashutosh', 456]\n",
      "['dev', 567]\n"
     ]
    },
    {
     "ename": "IndexError",
     "evalue": "list index out of range",
     "output_type": "error",
     "traceback": [
      "\u001b[1;31m---------------------------------------------------------------------------\u001b[0m",
      "\u001b[1;31mIndexError\u001b[0m                                Traceback (most recent call last)",
      "Cell \u001b[1;32mIn[1], line 4\u001b[0m\n\u001b[0;32m      2\u001b[0m i\u001b[38;5;241m=\u001b[39m\u001b[38;5;241m0\u001b[39m\n\u001b[0;32m      3\u001b[0m \u001b[38;5;28;01mwhile\u001b[39;00m(i\u001b[38;5;241m>\u001b[39m\u001b[38;5;241m=\u001b[39m\u001b[38;5;241m0\u001b[39m):\n\u001b[1;32m----> 4\u001b[0m     l\u001b[38;5;241m=\u001b[39m[trainees[i][\u001b[38;5;241m0\u001b[39m],trainees[i][\u001b[38;5;241m1\u001b[39m]]\n\u001b[0;32m      5\u001b[0m     \u001b[38;5;28mprint\u001b[39m(l) \n\u001b[0;32m      6\u001b[0m     i \u001b[38;5;241m=\u001b[39m i\u001b[38;5;241m+\u001b[39m\u001b[38;5;241m1\u001b[39m\n",
      "\u001b[1;31mIndexError\u001b[0m: list index out of range"
     ]
    }
   ],
   "source": [
    "trainees=[ ['lakshya',123,'btech'],['abhimann',234,'ba'],['dhruv',345,'BCA'],['ashutosh',456,\"BBA\"],['dev',567,'B.Ed']]\n",
    "i=0\n",
    "while(i>=0):\n",
    "    l=[trainees[i][0],trainees[i][1]]\n",
    "    print(l) \n",
    "    i = i+1\n"
   ]
  },
  {
   "cell_type": "code",
   "execution_count": null,
   "id": "5764ad19",
   "metadata": {},
   "outputs": [],
   "source": []
  },
  {
   "cell_type": "code",
   "execution_count": null,
   "id": "4b3c226b",
   "metadata": {},
   "outputs": [],
   "source": []
  },
  {
   "cell_type": "code",
   "execution_count": null,
   "id": "0a79f836",
   "metadata": {},
   "outputs": [],
   "source": []
  }
 ],
 "metadata": {
  "kernelspec": {
   "display_name": "Python 3 (ipykernel)",
   "language": "python",
   "name": "python3"
  },
  "language_info": {
   "codemirror_mode": {
    "name": "ipython",
    "version": 3
   },
   "file_extension": ".py",
   "mimetype": "text/x-python",
   "name": "python",
   "nbconvert_exporter": "python",
   "pygments_lexer": "ipython3",
   "version": "3.11.5"
  }
 },
 "nbformat": 4,
 "nbformat_minor": 5
}
