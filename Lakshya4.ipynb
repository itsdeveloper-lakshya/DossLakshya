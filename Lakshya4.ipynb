{
 "cells": [
  {
   "cell_type": "code",
   "execution_count": 1,
   "id": "b233e395",
   "metadata": {},
   "outputs": [
    {
     "name": "stdout",
     "output_type": "stream",
     "text": [
      "Requirement already satisfied: pyttsx3 in c:\\users\\gupta\\anaconda3\\lib\\site-packages (2.90)\n",
      "Requirement already satisfied: comtypes in c:\\users\\gupta\\anaconda3\\lib\\site-packages (from pyttsx3) (1.2.0)\n",
      "Requirement already satisfied: pypiwin32 in c:\\users\\gupta\\anaconda3\\lib\\site-packages (from pyttsx3) (223)\n",
      "Requirement already satisfied: pywin32 in c:\\users\\gupta\\anaconda3\\lib\\site-packages (from pyttsx3) (305.1)\n",
      "Note: you may need to restart the kernel to use updated packages.\n"
     ]
    }
   ],
   "source": [
    "pip install pyttsx3"
   ]
  },
  {
   "cell_type": "code",
   "execution_count": null,
   "id": "d866b9bd",
   "metadata": {},
   "outputs": [],
   "source": [
    "import pyttsx3 as pt"
   ]
  },
  {
   "cell_type": "code",
   "execution_count": null,
   "id": "f896eaea",
   "metadata": {},
   "outputs": [],
   "source": [
    "tts= pt.init()"
   ]
  },
  {
   "cell_type": "code",
   "execution_count": null,
   "id": "6401b37f",
   "metadata": {},
   "outputs": [],
   "source": [
    "tts.say(\"Hello Lakshya will you play with me\")\n",
    "tts.runAndWait()"
   ]
  },
  {
   "cell_type": "code",
   "execution_count": 1,
   "id": "815225d4",
   "metadata": {},
   "outputs": [],
   "source": [
    "import os"
   ]
  },
  {
   "cell_type": "code",
   "execution_count": 3,
   "id": "0ed34b71",
   "metadata": {},
   "outputs": [
    {
     "name": "stdout",
     "output_type": "stream",
     "text": [
      "Enter 1 for notepad\n",
      "Enter 2 for Microsoft Paint\n",
      "Enter 3 for Spotify\n",
      "Enter 4 for Command Prompt\n",
      "\n",
      "Enter number between 1-4\n",
      "4\n"
     ]
    }
   ],
   "source": [
    "print(\"Enter 1 for notepad\\nEnter 2 for Microsoft Paint\\nEnter 3 for Spotify\\nEnter 4 for Command Prompt\\n\")\n",
    "ch=int(input(\"Enter number between 1-4\\n\"))\n",
    "if ch==1:\n",
    "    os.system(\"notepad\")\n",
    "elif ch==2:\n",
    "    os.system(\"mspaint\")\n",
    "elif ch==3:\n",
    "    os.system(\"spotify\")\n",
    "elif ch==4:\n",
    "    os.system(\"cmd\")\n",
    "else:\n",
    "    print(\"Invalid Input\\n\")"
   ]
  },
  {
   "cell_type": "code",
   "execution_count": null,
   "id": "832c0011",
   "metadata": {},
   "outputs": [],
   "source": []
  },
  {
   "cell_type": "code",
   "execution_count": null,
   "id": "c2a59e6f",
   "metadata": {},
   "outputs": [],
   "source": []
  }
 ],
 "metadata": {
  "kernelspec": {
   "display_name": "Python 3 (ipykernel)",
   "language": "python",
   "name": "python3"
  },
  "language_info": {
   "codemirror_mode": {
    "name": "ipython",
    "version": 3
   },
   "file_extension": ".py",
   "mimetype": "text/x-python",
   "name": "python",
   "nbconvert_exporter": "python",
   "pygments_lexer": "ipython3",
   "version": "3.11.5"
  }
 },
 "nbformat": 4,
 "nbformat_minor": 5
}
