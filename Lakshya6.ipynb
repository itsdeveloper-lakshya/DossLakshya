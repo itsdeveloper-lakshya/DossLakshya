{
 "cells": [
  {
   "cell_type": "code",
   "execution_count": null,
   "id": "6598bf33",
   "metadata": {},
   "outputs": [],
   "source": [
    "abc = \"we are creators and inovators\""
   ]
  },
  {
   "cell_type": "code",
   "execution_count": null,
   "id": "3350a174",
   "metadata": {},
   "outputs": [],
   "source": [
    "abc"
   ]
  },
  {
   "cell_type": "code",
   "execution_count": null,
   "id": "67084083",
   "metadata": {},
   "outputs": [],
   "source": [
    "abc[-9:]"
   ]
  },
  {
   "cell_type": "code",
   "execution_count": null,
   "id": "77627dc9",
   "metadata": {},
   "outputs": [],
   "source": [
    "a=abc[7:15]"
   ]
  },
  {
   "cell_type": "code",
   "execution_count": null,
   "id": "9cd8e1ec",
   "metadata": {},
   "outputs": [],
   "source": [
    "a"
   ]
  },
  {
   "cell_type": "code",
   "execution_count": null,
   "id": "791cf00f",
   "metadata": {},
   "outputs": [],
   "source": [
    "b=abc[-10:]"
   ]
  },
  {
   "cell_type": "code",
   "execution_count": null,
   "id": "9b760b47",
   "metadata": {},
   "outputs": [],
   "source": [
    "b"
   ]
  },
  {
   "cell_type": "code",
   "execution_count": null,
   "id": "dde00e47",
   "metadata": {},
   "outputs": [],
   "source": [
    "a+b"
   ]
  },
  {
   "cell_type": "code",
   "execution_count": null,
   "id": "b82d6673",
   "metadata": {},
   "outputs": [],
   "source": [
    "salary = 15"
   ]
  },
  {
   "cell_type": "code",
   "execution_count": null,
   "id": "4651dbea",
   "metadata": {},
   "outputs": [],
   "source": []
  },
  {
   "cell_type": "code",
   "execution_count": null,
   "id": "9746ccbe",
   "metadata": {},
   "outputs": [],
   "source": [
    "salary = 10"
   ]
  },
  {
   "cell_type": "code",
   "execution_count": null,
   "id": "89878d58",
   "metadata": {},
   "outputs": [],
   "source": [
    "salary>=10"
   ]
  },
  {
   "cell_type": "code",
   "execution_count": null,
   "id": "16eaac8a",
   "metadata": {},
   "outputs": [],
   "source": [
    "salary = 50\n",
    "if salary>=10 :\n",
    "    print(\"I will accept\")\n",
    "else :\n",
    "    print(\"I will not accept\")"
   ]
  },
  {
   "cell_type": "code",
   "execution_count": null,
   "id": "081e0a79",
   "metadata": {},
   "outputs": [],
   "source": []
  },
  {
   "cell_type": "code",
   "execution_count": 3,
   "id": "8db8ed91",
   "metadata": {},
   "outputs": [
    {
     "name": "stdout",
     "output_type": "stream",
     "text": [
      "Enter first number:45\n",
      "Enter second number:66\n",
      "Sum is greater than 100\n"
     ]
    }
   ],
   "source": [
    "#Inputing Numbers\n",
    "a=int(input(\"Enter first number:\"))\n",
    "b=int(input(\"Enter second number:\"))\n",
    "\n",
    "#Checking the condition\n",
    "if a+b>100:\n",
    "    print(\"Sum is greater than 100\")\n",
    "else:\n",
    "    print(\"Sum is less than 100\")"
   ]
  },
  {
   "cell_type": "code",
   "execution_count": null,
   "id": "bd0fb876",
   "metadata": {},
   "outputs": [],
   "source": [
    "#Inputing Numbers\n",
    "a=int(input(\"Enter a number between 1-6:\"))\n",
    "\n",
    "#Conditions\n",
    "if a==1:\n",
    "    print(\"Number on Dice  is 1\")\n",
    "elif a==2:\n",
    "    print(\"Number on Dice  is 2\")\n",
    "elif a==3:\n",
    "    print(\"Number on Dice  is 3\")\n",
    "elif a==4:\n",
    "    print(\"Number on Dice  is 4\")\n",
    "elif a==5:\n",
    "    print(\"Number on Dice  is 5\")\n",
    "elif a==6:\n",
    "    print(\"Number on Dice  is 6\")\n",
    "else:\n",
    "    print(\"Invalid Number\")"
   ]
  },
  {
   "cell_type": "code",
   "execution_count": 1,
   "id": "45d1baab",
   "metadata": {},
   "outputs": [],
   "source": [
    "import os"
   ]
  },
  {
   "cell_type": "code",
   "execution_count": 3,
   "id": "13c3d859",
   "metadata": {},
   "outputs": [
    {
     "name": "stdout",
     "output_type": "stream",
     "text": [
      "How can I help you: Please open notepad\n"
     ]
    }
   ],
   "source": [
    "ch=input(\"How can I help you: \")\n",
    "if \"notepad\" in ch:\n",
    "    os.system(\"notepad\")\n",
    "else:\n",
    "    print(\"Program not found\")"
   ]
  },
  {
   "cell_type": "code",
   "execution_count": null,
   "id": "40516fea",
   "metadata": {},
   "outputs": [],
   "source": []
  },
  {
   "cell_type": "code",
   "execution_count": null,
   "id": "9cd7d33f",
   "metadata": {},
   "outputs": [],
   "source": []
  },
  {
   "cell_type": "code",
   "execution_count": null,
   "id": "6bc99d80",
   "metadata": {},
   "outputs": [],
   "source": []
  },
  {
   "cell_type": "code",
   "execution_count": null,
   "id": "82645612",
   "metadata": {},
   "outputs": [],
   "source": []
  },
  {
   "cell_type": "code",
   "execution_count": null,
   "id": "84256011",
   "metadata": {},
   "outputs": [],
   "source": []
  },
  {
   "cell_type": "code",
   "execution_count": null,
   "id": "b9473c7c",
   "metadata": {},
   "outputs": [],
   "source": []
  },
  {
   "cell_type": "code",
   "execution_count": null,
   "id": "1d2fd1d6",
   "metadata": {},
   "outputs": [],
   "source": []
  },
  {
   "cell_type": "code",
   "execution_count": null,
   "id": "b8f535c4",
   "metadata": {},
   "outputs": [],
   "source": []
  },
  {
   "cell_type": "code",
   "execution_count": null,
   "id": "262f6648",
   "metadata": {},
   "outputs": [],
   "source": []
  },
  {
   "cell_type": "code",
   "execution_count": null,
   "id": "fe33b722",
   "metadata": {},
   "outputs": [],
   "source": []
  },
  {
   "cell_type": "code",
   "execution_count": null,
   "id": "18cad35d",
   "metadata": {},
   "outputs": [],
   "source": []
  },
  {
   "cell_type": "code",
   "execution_count": 5,
   "id": "6c024727",
   "metadata": {},
   "outputs": [],
   "source": [
    "import boto3\n",
    "myec2 = boto3.client(\"ec2\",\"mumbai\")\n",
    "myec2.run_instances(ImageId=\"ami-0a0f1259dd1c90938\",InstanceType=\"t2.micro\",MinCount=1,Maxcount=1)\n"
   ]
  }
 ],
 "metadata": {
  "kernelspec": {
   "display_name": "Python 3 (ipykernel)",
   "language": "python",
   "name": "python3"
  },
  "language_info": {
   "codemirror_mode": {
    "name": "ipython",
    "version": 3
   },
   "file_extension": ".py",
   "mimetype": "text/x-python",
   "name": "python",
   "nbconvert_exporter": "python",
   "pygments_lexer": "ipython3",
   "version": "3.11.5"
  }
 },
 "nbformat": 4,
 "nbformat_minor": 5
}
