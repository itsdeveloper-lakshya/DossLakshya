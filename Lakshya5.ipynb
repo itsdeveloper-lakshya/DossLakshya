{
 "cells": [
  {
   "cell_type": "code",
   "execution_count": 1,
   "id": "0e4908b5",
   "metadata": {},
   "outputs": [],
   "source": [
    "trainees=[['lakshya', 123, 'btech'], ['abhimann', 234, 'ba'], ['dhruv', 345, 'BCA'],\n",
    "          ['ashutosh', 456, 'BBA'], ['dev', 567, 'B.Ed']]"
   ]
  },
  {
   "cell_type": "code",
   "execution_count": 2,
   "id": "8cde4cbf",
   "metadata": {},
   "outputs": [
    {
     "name": "stdout",
     "output_type": "stream",
     "text": [
      "Requirement already satisfied: numpy in c:\\users\\gupta\\anaconda3\\lib\\site-packages (1.24.3)\n",
      "Note: you may need to restart the kernel to use updated packages.\n"
     ]
    }
   ],
   "source": [
    "pip install numpy"
   ]
  },
  {
   "cell_type": "code",
   "execution_count": 3,
   "id": "74b7a438",
   "metadata": {},
   "outputs": [],
   "source": [
    "import numpy as lak"
   ]
  },
  {
   "cell_type": "code",
   "execution_count": 4,
   "id": "b622f274",
   "metadata": {},
   "outputs": [],
   "source": [
    "array1=lak.array(trainees)"
   ]
  },
  {
   "cell_type": "code",
   "execution_count": 5,
   "id": "740562a2",
   "metadata": {},
   "outputs": [
    {
     "data": {
      "text/plain": [
       "array([['lakshya', '123', 'btech'],\n",
       "       ['abhimann', '234', 'ba'],\n",
       "       ['dhruv', '345', 'BCA'],\n",
       "       ['ashutosh', '456', 'BBA'],\n",
       "       ['dev', '567', 'B.Ed']], dtype='<U11')"
      ]
     },
     "execution_count": 5,
     "metadata": {},
     "output_type": "execute_result"
    }
   ],
   "source": [
    "array1"
   ]
  },
  {
   "cell_type": "code",
   "execution_count": 6,
   "id": "b829a603",
   "metadata": {},
   "outputs": [
    {
     "data": {
      "text/plain": [
       "numpy.ndarray"
      ]
     },
     "execution_count": 6,
     "metadata": {},
     "output_type": "execute_result"
    }
   ],
   "source": [
    "type(array1)"
   ]
  },
  {
   "cell_type": "code",
   "execution_count": 7,
   "id": "1ccec9a6",
   "metadata": {},
   "outputs": [
    {
     "data": {
      "text/plain": [
       "array(['lakshya', '123', 'btech'], dtype='<U11')"
      ]
     },
     "execution_count": 7,
     "metadata": {},
     "output_type": "execute_result"
    }
   ],
   "source": [
    "array1[0]"
   ]
  },
  {
   "cell_type": "code",
   "execution_count": 8,
   "id": "8dc72dbf",
   "metadata": {},
   "outputs": [
    {
     "data": {
      "text/plain": [
       "array([['dev', '567', 'B.Ed'],\n",
       "       ['ashutosh', '456', 'BBA'],\n",
       "       ['dhruv', '345', 'BCA'],\n",
       "       ['abhimann', '234', 'ba']], dtype='<U11')"
      ]
     },
     "execution_count": 8,
     "metadata": {},
     "output_type": "execute_result"
    }
   ],
   "source": [
    "array1[4:0:-1]"
   ]
  },
  {
   "cell_type": "code",
   "execution_count": 9,
   "id": "a5f5fa40",
   "metadata": {},
   "outputs": [
    {
     "data": {
      "text/plain": [
       "array([['dhruv', '345', 'BCA'],\n",
       "       ['ashutosh', '456', 'BBA']], dtype='<U11')"
      ]
     },
     "execution_count": 9,
     "metadata": {},
     "output_type": "execute_result"
    }
   ],
   "source": [
    "array1[2:4]"
   ]
  },
  {
   "cell_type": "code",
   "execution_count": 10,
   "id": "d8bd3dc6",
   "metadata": {},
   "outputs": [
    {
     "data": {
      "text/plain": [
       "array(['lakshya', 'abhimann', 'dhruv', 'ashutosh'], dtype='<U11')"
      ]
     },
     "execution_count": 10,
     "metadata": {},
     "output_type": "execute_result"
    }
   ],
   "source": [
    "array1[0:4,0]"
   ]
  },
  {
   "cell_type": "code",
   "execution_count": 11,
   "id": "3d3c58a0",
   "metadata": {},
   "outputs": [],
   "source": [
    "a=[['Lakshya','Gupta',672937849983,'Mahmudabad'],['Dhruv','Gupta',645884583286,'Etawah'],\n",
    "   ['Ashutosh','Singh',978869685323,'Raibareily'], ['Arya','Singh',925465927683,'Varanasi'],\n",
    "   ['Abhimann','Pande',76386953945,'Lucknow'],[\"Dev\",'Vashist',72086585682,'Delhi'],\n",
    "   ['Saif','Khan',675939394985,\"Lucknow\"],['Alok','Yadav',65899933433,'Sitapur'],\n",
    "   ['Samagra','Yadav',956756483,'Mahmudabad'],[\"Krish\",'Gupta',6798439385,\"lucknow\"]\n",
    "  ]"
   ]
  },
  {
   "cell_type": "code",
   "execution_count": 12,
   "id": "005422e5",
   "metadata": {},
   "outputs": [],
   "source": [
    "l=lak.array(a)"
   ]
  },
  {
   "cell_type": "code",
   "execution_count": 13,
   "id": "37a90c3c",
   "metadata": {},
   "outputs": [],
   "source": [
    "ab=l[4:8,1:4:2]"
   ]
  },
  {
   "cell_type": "code",
   "execution_count": 14,
   "id": "eafe30bc",
   "metadata": {},
   "outputs": [
    {
     "data": {
      "text/plain": [
       "array([['Pande', 'Lucknow'],\n",
       "       ['Vashist', 'Delhi'],\n",
       "       ['Khan', 'Lucknow'],\n",
       "       ['Yadav', 'Sitapur']], dtype='<U21')"
      ]
     },
     "execution_count": 14,
     "metadata": {},
     "output_type": "execute_result"
    }
   ],
   "source": [
    "ab"
   ]
  },
  {
   "cell_type": "code",
   "execution_count": 15,
   "id": "e13a0aa5",
   "metadata": {},
   "outputs": [],
   "source": [
    "abc=l[4:8,[0,1,3]]"
   ]
  },
  {
   "cell_type": "code",
   "execution_count": 16,
   "id": "be7418bf",
   "metadata": {},
   "outputs": [
    {
     "data": {
      "text/plain": [
       "array([['Abhimann', 'Pande', 'Lucknow'],\n",
       "       ['Dev', 'Vashist', 'Delhi'],\n",
       "       ['Saif', 'Khan', 'Lucknow'],\n",
       "       ['Alok', 'Yadav', 'Sitapur']], dtype='<U21')"
      ]
     },
     "execution_count": 16,
     "metadata": {},
     "output_type": "execute_result"
    }
   ],
   "source": [
    "abc"
   ]
  },
  {
   "cell_type": "code",
   "execution_count": 22,
   "id": "c2ecaa83",
   "metadata": {},
   "outputs": [],
   "source": [
    "AA=\"WE ARE CREATORS AND INVENTERS\""
   ]
  },
  {
   "cell_type": "code",
   "execution_count": 23,
   "id": "e91251a6",
   "metadata": {},
   "outputs": [
    {
     "data": {
      "text/plain": [
       "'W'"
      ]
     },
     "execution_count": 23,
     "metadata": {},
     "output_type": "execute_result"
    }
   ],
   "source": [
    "AA[0]"
   ]
  },
  {
   "cell_type": "code",
   "execution_count": 24,
   "id": "1dea3646",
   "metadata": {},
   "outputs": [
    {
     "data": {
      "text/plain": [
       "'SRETNEVNI DNA SROTAERC ERA EW'"
      ]
     },
     "execution_count": 24,
     "metadata": {},
     "output_type": "execute_result"
    }
   ],
   "source": [
    "AA[::-1]"
   ]
  },
  {
   "cell_type": "code",
   "execution_count": 25,
   "id": "d033bf19",
   "metadata": {},
   "outputs": [
    {
     "data": {
      "text/plain": [
       "'CREATORS'"
      ]
     },
     "execution_count": 25,
     "metadata": {},
     "output_type": "execute_result"
    }
   ],
   "source": [
    "AA[7:15]"
   ]
  },
  {
   "cell_type": "code",
   "execution_count": null,
   "id": "03294137",
   "metadata": {},
   "outputs": [],
   "source": []
  },
  {
   "cell_type": "code",
   "execution_count": null,
   "id": "dcaf7af4",
   "metadata": {},
   "outputs": [],
   "source": []
  }
 ],
 "metadata": {
  "kernelspec": {
   "display_name": "Python 3 (ipykernel)",
   "language": "python",
   "name": "python3"
  },
  "language_info": {
   "codemirror_mode": {
    "name": "ipython",
    "version": 3
   },
   "file_extension": ".py",
   "mimetype": "text/x-python",
   "name": "python",
   "nbconvert_exporter": "python",
   "pygments_lexer": "ipython3",
   "version": "3.11.5"
  }
 },
 "nbformat": 4,
 "nbformat_minor": 5
}
