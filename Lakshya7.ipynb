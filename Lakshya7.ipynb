{
 "cells": [
  {
   "cell_type": "code",
   "execution_count": 1,
   "id": "eca00bf0",
   "metadata": {},
   "outputs": [
    {
     "name": "stdout",
     "output_type": "stream",
     "text": [
      "Requirement already satisfied: pyttsx3 in c:\\users\\gupta\\anaconda3\\lib\\site-packages (2.90)\n",
      "Requirement already satisfied: comtypes in c:\\users\\gupta\\anaconda3\\lib\\site-packages (from pyttsx3) (1.2.0)\n",
      "Requirement already satisfied: pypiwin32 in c:\\users\\gupta\\anaconda3\\lib\\site-packages (from pyttsx3) (223)\n",
      "Requirement already satisfied: pywin32 in c:\\users\\gupta\\anaconda3\\lib\\site-packages (from pyttsx3) (305.1)\n",
      "Note: you may need to restart the kernel to use updated packages.\n"
     ]
    }
   ],
   "source": [
    "pip install pyttsx3"
   ]
  },
  {
   "cell_type": "code",
   "execution_count": null,
   "id": "15406f78",
   "metadata": {},
   "outputs": [],
   "source": [
    "import pyttsx3 as pt\n",
    "tts= pt.init()\n",
    "\n",
    "#changing of voice\n",
    "voices=tts.getProperty('voices')\n",
    "tts.setProperty(\"voice\",voices[1].id)\n",
    "tts.say(\"Hello Lakshya! Can you help me in coding\")\n",
    "tts.runAndWait()\n",
    "tts.stop()\n",
    "print(\"Program Run Sucessfully\")"
   ]
  },
  {
   "cell_type": "code",
   "execution_count": 3,
   "id": "52034d63",
   "metadata": {},
   "outputs": [
    {
     "name": "stdout",
     "output_type": "stream",
     "text": [
      "Program Run Sucessfully\n"
     ]
    }
   ],
   "source": [
    "import pyttsx3 as pt\n",
    "tts= pt.init()\n",
    "\n",
    "#changing of rate\n",
    "rate=tts.getProperty('rate')\n",
    "tts.setProperty('rate',350)\n",
    "tts.say(\"Success is a journey not a destination\")\n",
    "tts.runAndWait()\n",
    "tts.stop()\n",
    "print(\"Program Run Sucessfully\")"
   ]
  },
  {
   "cell_type": "code",
   "execution_count": 2,
   "id": "8aabd58f",
   "metadata": {},
   "outputs": [
    {
     "name": "stdout",
     "output_type": "stream",
     "text": [
      "Program Run Sucessfully\n"
     ]
    }
   ],
   "source": [
    "import tkinter as tk\n",
    "r = tk.Tk()\n",
    "r.title('Made by Lakshya and Arya Prakash')\n",
    "name=tk.Label(text='Name',bg='white',fg='red')\n",
    "name.pack()\n",
    "name_entry=tk.Entry()\n",
    "name_entry.pack()\n",
    "name=tk.Label(text='Branch',bg='white',fg='red')\n",
    "name.pack()\n",
    "name_entry=tk.Entry()\n",
    "name_entry.pack()\n",
    "name=tk.Label(text='Year',bg='white',fg='red')\n",
    "name.pack()\n",
    "name_entry=tk.Entry()\n",
    "name_entry.pack()\n",
    "button = tk.Button(r, text='Stop', width=10, command=r.destroy)\n",
    "button.pack()\n",
    "\n",
    "r.mainloop()\n",
    "print(\"Program Run Sucessfully\")\n"
   ]
  },
  {
   "cell_type": "code",
   "execution_count": null,
   "id": "c8686ad6",
   "metadata": {},
   "outputs": [],
   "source": []
  }
 ],
 "metadata": {
  "kernelspec": {
   "display_name": "Python 3 (ipykernel)",
   "language": "python",
   "name": "python3"
  },
  "language_info": {
   "codemirror_mode": {
    "name": "ipython",
    "version": 3
   },
   "file_extension": ".py",
   "mimetype": "text/x-python",
   "name": "python",
   "nbconvert_exporter": "python",
   "pygments_lexer": "ipython3",
   "version": "3.11.5"
  }
 },
 "nbformat": 4,
 "nbformat_minor": 5
}
